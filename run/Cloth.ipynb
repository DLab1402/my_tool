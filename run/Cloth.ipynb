{
 "cells": [
  {
   "cell_type": "markdown",
   "metadata": {},
   "source": [
    "Module importing"
   ]
  },
  {
   "cell_type": "code",
   "execution_count": 4,
   "metadata": {},
   "outputs": [],
   "source": [
    "import sys\n",
    "import torch\n",
    "import random\n",
    "import numpy as np\n",
    "import torch.nn as nn\n",
    "import torch.optim as optim\n",
    "import scipy.signal as signal\n",
    "import matplotlib.pyplot as plt\n",
    "from torch.utils.data import Dataset,DataLoader,TensorDataset,random_split,SubsetRandomSampler, ConcatDataset\n",
    "\n",
    "sys.path.append('/workspace/my_DL_tool/model')\n",
    "from autoencoder import Autoencoder\n",
    "sys.path.append('/workspace/my_DL_tool/tool')\n",
    "from ppg_signal_load import PPGDataset\n",
    "from model_builder import k_fold_training\n",
    "from performance import performance"
   ]
  },
  {
   "cell_type": "markdown",
   "metadata": {},
   "source": [
    "Data prepairing"
   ]
  },
  {
   "cell_type": "code",
   "execution_count": null,
   "metadata": {},
   "outputs": [],
   "source": [
    "#Import_data\n",
    "def preprocessing1(item):\n",
    "    N = 200\n",
    "    item[0] = signal.resample(item[0],N)\n",
    "    item[1] = signal.resample(item[1],N)\n",
    "    item[0] = (item[0]-np.min(item[0]))/(np.max(item[0])-np.min(item[0]))\n",
    "    item[1] = (item[1]-np.min(item[1]))/(np.max(item[1])-np.min(item[1]))\n",
    "    if len(item[0]) == len(item[1]):\n",
    "        return item\n",
    "\n",
    "def preprocessing2(item):\n",
    "    N = 1000\n",
    "    if len(item[0]) != 1000:\n",
    "        item[0] = item[0][0:1000]\n",
    "        item[0] = (item[0]-np.min(item[0]))/(np.max(item[0])-np.min(item[0]))\n",
    "    if len(item[1]) != 1000:\n",
    "        item[1] = item[1][0:1000]    \n",
    "        item[1] = (item[1]-np.min(item[1]))/(np.max(item[1])-np.min(item[1]))\n",
    "    \n",
    "    return item\n",
    "\n",
    "dataset = PPGDataset('/workspace/my_DL_tool/data/data.json',preprocessing = preprocessing1)\n",
    "index = random.randint(0, len(dataset)-1)\n",
    "z = dataset[0][0].numpy().flatten()\n",
    "print(z.shape)\n",
    "plt.plot(dataset[0][0].numpy().flatten())\n",
    "plt.plot(dataset[0][1].numpy().flatten())\n",
    "plt.show()\n",
    "\n",
    "N = len(dataset)\n",
    "test_len = int(N*0.2)\n",
    "train_len = N-test_len\n",
    "\n",
    "train_data, test_data = random_split(dataset, [train_len, test_len])"
   ]
  },
  {
   "cell_type": "markdown",
   "metadata": {},
   "source": [
    "Training"
   ]
  },
  {
   "cell_type": "code",
   "execution_count": null,
   "metadata": {},
   "outputs": [],
   "source": [
    "if torch.cuda.is_available():\n",
    "    device = torch.device('cuda')\n",
    "else:\n",
    "    device = torch.device('cpu')\n",
    "model = Autoencoder(layer_dims = [200,200,200,200,100,100,100,50,50])\n",
    "optimizer = optim.Adam(model.parameters(), lr=0.0001)\n",
    "builder = k_fold_training(train_data,1,criterion = nn.L1Loss())\n",
    "builder.training(model,device,optimizer,num_epochs=500,batch=128,visualize=1)"
   ]
  },
  {
   "cell_type": "markdown",
   "metadata": {},
   "source": [
    "Performance"
   ]
  },
  {
   "cell_type": "code",
   "execution_count": null,
   "metadata": {},
   "outputs": [],
   "source": [
    "shower = performance()\n",
    "shower.test(model,device,test_data,per_fnc = \"series\")\n",
    "criterion = nn.L1Loss()\n",
    "for i in range(100,200):\n",
    "    y = test_data[i][1].numpy().flatten()\n",
    "    y_hat = model.forward(test_data[i][0].to(device))\n",
    "    loss = criterion(y_hat,test_data[i][1].to(device))\n",
    "    if loss.cpu().detach().numpy() <0.15:\n",
    "        print(loss.cpu().detach().numpy())\n",
    "        plt.plot(test_data[i][0].to(device).cpu().detach().numpy().flatten())\n",
    "        plt.plot(y)\n",
    "        plt.plot(y_hat.cpu().detach().numpy().flatten())\n",
    "        # plt.stem(model.hidden_layer.cpu().detach().numpy().flatten())\n",
    "        plt.show()"
   ]
  }
 ],
 "metadata": {
  "kernelspec": {
   "display_name": "Python 3",
   "language": "python",
   "name": "python3"
  },
  "language_info": {
   "codemirror_mode": {
    "name": "ipython",
    "version": 3
   },
   "file_extension": ".py",
   "mimetype": "text/x-python",
   "name": "python",
   "nbconvert_exporter": "python",
   "pygments_lexer": "ipython3",
   "version": "3.10.12"
  }
 },
 "nbformat": 4,
 "nbformat_minor": 2
}
